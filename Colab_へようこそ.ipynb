{
  "cells": [
    {
      "cell_type": "markdown",
      "metadata": {
        "id": "view-in-github",
        "colab_type": "text"
      },
      "source": [
        "<a href=\"https://colab.research.google.com/github/tonytani37/SpicySessions/blob/main/Colab_%E3%81%B8%E3%82%88%E3%81%86%E3%81%93%E3%81%9D.ipynb\" target=\"_parent\"><img src=\"https://colab.research.google.com/assets/colab-badge.svg\" alt=\"Open In Colab\"/></a>"
      ]
    },
    {
      "cell_type": "code",
      "source": [
        "# prompt: /content/spicy_sessions_songs.jsonをcsvファイルにする それぞれのレコードにはセッション情報という配列が含まれるが、それらはセッション曲ごとに１レコードにする\n",
        "\n",
        "import pandas as pd\n",
        "import json\n",
        "\n",
        "with open('/content/spicy_sessions_songs.json', 'r', encoding='utf-8') as f:\n",
        "    data = json.load(f)\n",
        "\n",
        "# セッション情報を展開するための関数\n",
        "def expand_sessions(row):\n",
        "    session_data = row['セッション情報']\n",
        "    rows = []\n",
        "    for session in session_data:\n",
        "        new_row = row.copy()  # 元の行をコピー\n",
        "        del new_row['セッション情報'] # セッション情報を削除\n",
        "        new_row.update(session) # セッション情報を追加\n",
        "        rows.append(new_row)\n",
        "    return rows\n",
        "\n",
        "expanded_data = []\n",
        "for row in data:\n",
        "    expanded_data.extend(expand_sessions(row))\n",
        "\n",
        "df = pd.DataFrame(expanded_data)\n",
        "df.to_csv('spicy_sessions_songs.csv', index=False, encoding='utf-8')\n"
      ],
      "metadata": {
        "id": "TxH4Xky41o8d"
      },
      "execution_count": 40,
      "outputs": []
    },
    {
      "cell_type": "code",
      "source": [
        "import pandas as pd\n",
        "import json\n",
        "\n",
        "# CSVファイルの読み込み\n",
        "csv_path = \"spicy_sessions_songs.csv\"  # ←ファイルパスを適宜変更してください\n",
        "df = pd.read_csv(csv_path)\n",
        "\n",
        "# セッション情報にまとめる列\n",
        "session_cols = [\"セッション曲\", \"オリジナル\", \"歌唱\", \"演奏者\", \"備考\"]\n",
        "\n",
        "# 回などの情報でグループ化\n",
        "grouped = df.groupby([\"回\", \"放送日\", \"放送時間\", \"放送タイトル\", \"カレー\", \"参考\"])\n",
        "\n",
        "# JSONデータ構築\n",
        "json_data = []\n",
        "for keys, group in grouped:\n",
        "    session_info = group[session_cols].to_dict(orient=\"records\")\n",
        "    entry = {\n",
        "        \"回\": int(keys[0]),  # int型に変換\n",
        "        \"放送日\": keys[1],\n",
        "        \"放送時間\": keys[2],\n",
        "        \"放送タイトル\": keys[3],\n",
        "        \"カレー\": keys[4],\n",
        "        \"参考\": keys[5],\n",
        "        \"セッション情報\": session_info\n",
        "    }\n",
        "    json_data.append(entry)\n",
        "\n",
        "# JSONファイルに保存\n",
        "output_path = \"/content/spicy_sessions_convert.json\"  # 出力ファイル名\n",
        "with open(output_path, \"w\", encoding=\"utf-8\") as f:\n",
        "    json.dump(json_data, f, ensure_ascii=False, indent=2)\n",
        "\n",
        "print(f\"変換完了！JSONファイル保存先: {output_path}\")\n"
      ],
      "metadata": {
        "id": "ucp-rgjUBUU1",
        "outputId": "f9582e61-8bb1-40ea-d6d2-4dde28559044",
        "colab": {
          "base_uri": "https://localhost:8080/"
        }
      },
      "execution_count": 46,
      "outputs": [
        {
          "output_type": "stream",
          "name": "stdout",
          "text": [
            "変換完了！JSONファイル保存先: /content/spicy_sessions_songs_converted.json\n"
          ]
        }
      ]
    }
  ],
  "metadata": {
    "colab": {
      "name": "Colab へようこそ",
      "provenance": [],
      "include_colab_link": true
    },
    "kernelspec": {
      "display_name": "Python 3",
      "name": "python3"
    }
  },
  "nbformat": 4,
  "nbformat_minor": 0
}