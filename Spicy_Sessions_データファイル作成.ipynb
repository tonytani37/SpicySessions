{
  "cells": [
    {
      "cell_type": "markdown",
      "metadata": {
        "id": "view-in-github",
        "colab_type": "text"
      },
      "source": [
        "<a href=\"https://colab.research.google.com/github/tonytani37/SpicySessions/blob/main/Spicy_Sessions_%E3%83%87%E3%83%BC%E3%82%BF%E3%83%95%E3%82%A1%E3%82%A4%E3%83%AB%E4%BD%9C%E6%88%90.ipynb\" target=\"_parent\"><img src=\"https://colab.research.google.com/assets/colab-badge.svg\" alt=\"Open In Colab\"/></a>"
      ]
    },
    {
      "cell_type": "code",
      "source": [
        "# prompt: /content/spicy_sessions_songs.jsonをcsvファイルにする それぞれのレコードにはセッション情報という配列が含まれるが、それらはセッション曲ごとに１レコードにする　なおセッション情報がない場合には空の配列とする\n",
        "\n",
        "import json\n",
        "import pandas as pd\n",
        "\n",
        "def json_to_csv(json_file_path, csv_file_path):\n",
        "    try:\n",
        "        with open(json_file_path, 'r', encoding='utf-8') as f:\n",
        "            data = json.load(f)\n",
        "    except FileNotFoundError:\n",
        "        print(f\"Error: File not found at {json_file_path}\")\n",
        "        return\n",
        "    except json.JSONDecodeError:\n",
        "        print(f\"Error: Invalid JSON format in {json_file_path}\")\n",
        "        return\n",
        "\n",
        "    rows = []\n",
        "    for record in data:\n",
        "        sessions = record.get('セッション情報', [])  # セッション情報が存在しない場合の処理を追加\n",
        "        if not sessions:\n",
        "          sessions = []\n",
        "        for session in sessions:\n",
        "            new_row = {**record, **session}\n",
        "            # セッション情報以外のキーを新しい行に追加\n",
        "            del new_row['セッション情報']\n",
        "            rows.append(new_row)\n",
        "\n",
        "    df = pd.DataFrame(rows)\n",
        "    df.to_csv(csv_file_path, index=False, encoding='utf-8-sig') # BOM付きで保存\n",
        "    print(f\"Successfully converted {json_file_path} to {csv_file_path}\")\n",
        "\n",
        "json_to_csv('/content/spicy_sessions_songs.json', '/content/spicy_sessions_songs.csv')\n"
      ],
      "metadata": {
        "colab": {
          "base_uri": "https://localhost:8080/"
        },
        "id": "TxH4Xky41o8d",
        "outputId": "ab179321-81bd-49df-964c-2af82425a5e2"
      },
      "execution_count": null,
      "outputs": [
        {
          "output_type": "stream",
          "name": "stdout",
          "text": [
            "Successfully converted /content/spicy_sessions_songs.json to /content/spicy_sessions_songs.csv\n"
          ]
        }
      ]
    },
    {
      "cell_type": "code",
      "source": [
        "# prompt: /content/spicy_sessions_songs.csvを読み込んで、[\"回\", \"放送日\", \"放送時間\", \"放送タイトル\", \"カレー\", \"参考\"]でグルーピングする。それをグルーピングしたキーを基本に同じ回でセッション情報をまとめる　その時備考は無視する\n",
        "\n",
        "import json\n",
        "import pandas as pd\n",
        "\n",
        "# CSVファイルの読み込み\n",
        "csv_path = \"/content/spicy_sessions_songs.csv\"  # ←ファイルパスを適宜変更してください\n",
        "df = pd.read_csv(csv_path)\n",
        "\n",
        "df[\"参考\"].fillna(\"　\", inplace=True) #未入力（NaNがある場合は全角スペースとする）\n",
        "\n",
        "# セッション情報にまとめる列\n",
        "session_cols = [\"セッション曲\", \"オリジナル\", \"歌唱\", \"演奏者\"]\n",
        "\n",
        "# 回などの情報でグループ化\n",
        "grouped = df.groupby([\"回\", \"放送日\", \"放送時間\", \"放送タイトル\", \"カレー\", \"参考\",\"link\",'space'])\n",
        "\n",
        "# JSONデータ構築\n",
        "json_data = []\n",
        "for keys, group in grouped:\n",
        "    session_info = group[session_cols].to_dict(orient=\"records\")\n",
        "    entry = {\n",
        "        \"回\": int(keys[0]),  # int型に変換\n",
        "        \"放送日\": keys[1],\n",
        "        \"放送時間\": keys[2],\n",
        "        \"放送タイトル\": keys[3],\n",
        "        \"カレー\": keys[4],\n",
        "        \"参考\": keys[5],\n",
        "        \"link\": keys[6],\n",
        "        \"space\": keys[7],\n",
        "        \"セッション情報\": session_info\n",
        "    }\n",
        "    json_data.append(entry)\n",
        "\n",
        "# JSONファイルに保存\n",
        "output_path = \"/content/spicy_sessions_songs.json\"  # 出力ファイル名\n",
        "with open(output_path, \"w\", encoding=\"utf-8\") as f:\n",
        "    json.dump(json_data, f, ensure_ascii=False, indent=2)\n",
        "\n",
        "print(f\"変換完了！JSONファイル保存先: {output_path}\")\n"
      ],
      "metadata": {
        "id": "ys5FPXV03EpQ",
        "outputId": "3c56ba20-e6c5-4cfa-d85c-758d3bdc389f",
        "colab": {
          "base_uri": "https://localhost:8080/"
        }
      },
      "execution_count": null,
      "outputs": [
        {
          "output_type": "stream",
          "name": "stdout",
          "text": [
            "変換完了！JSONファイル保存先: /content/spicy_sessions_songs.json\n"
          ]
        },
        {
          "output_type": "stream",
          "name": "stderr",
          "text": [
            "<ipython-input-4-5cc998691f86>:10: FutureWarning: A value is trying to be set on a copy of a DataFrame or Series through chained assignment using an inplace method.\n",
            "The behavior will change in pandas 3.0. This inplace method will never work because the intermediate object on which we are setting values always behaves as a copy.\n",
            "\n",
            "For example, when doing 'df[col].method(value, inplace=True)', try using 'df.method({col: value}, inplace=True)' or df[col] = df[col].method(value) instead, to perform the operation inplace on the original object.\n",
            "\n",
            "\n",
            "  df[\"参考\"].fillna(\"　\", inplace=True) #未入力（NaNがある場合は全角スペースとする）\n"
          ]
        }
      ]
    }
  ],
  "metadata": {
    "colab": {
      "provenance": [],
      "include_colab_link": true
    },
    "kernelspec": {
      "display_name": "Python 3",
      "name": "python3"
    }
  },
  "nbformat": 4,
  "nbformat_minor": 0
}